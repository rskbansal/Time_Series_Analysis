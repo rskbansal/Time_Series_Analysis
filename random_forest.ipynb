{
 "cells": [
  {
   "cell_type": "code",
   "execution_count": 1,
   "metadata": {},
   "outputs": [],
   "source": [
    "import pandas as pd\n",
    "import numpy as np\n",
    "from sklearn.tree import DecisionTreeRegressor\n",
    "from sklearn.model_selection import GridSearchCV\n",
    "from sklearn.preprocessing import MinMaxScaler\n",
    "from sklearn.metrics import mean_squared_error"
   ]
  },
  {
   "cell_type": "code",
   "execution_count": null,
   "metadata": {},
   "outputs": [],
   "source": [
    "\n",
    "\n",
    "# Load time series data\n",
    "X= pd.read_csv('data/train.csv')\n",
    "\n",
    "# Define hyperparameter grid\n",
    "param_grid = {\n",
    "    'max_depth': [None, 10, 20],\n",
    "    'min_samples_split': [2, 5, 10],\n",
    "    'min_samples_leaf': [1, 2, 4],\n",
    "}\n",
    "\n",
    "# Define decision tree model\n",
    "model = DecisionTreeRegressor(random_state=42)\n",
    "\n",
    "# Perform hyperparameter tuning\n",
    "grid_search = GridSearchCV(model, param_grid, cv=5, scoring='neg_mean_squared_error', verbose=2)\n",
    "grid_search.fit(X, y)\n",
    "\n",
    "# Print best hyperparameters\n",
    "print('Best hyperparameters:', grid_search.best_params_)\n",
    "\n",
    "# Define sliding window function\n",
    "def sliding_window(X, window_size):\n",
    "    X_windows = []\n",
    "    for i in range(len(X) - window_size + 1):\n",
    "        X_windows.append(X[i:i+window_size])\n",
    "    return np.array(X_windows)\n",
    "\n",
    "# Apply sliding window approach to training data\n",
    "X_windows = sliding_window(X, grid_search.best_params_['window_size'])\n",
    "X_train = X_windows.reshape(-1, window_size)\n",
    "\n",
    "# Train final decision tree model\n",
    "final_model = DecisionTreeRegressor(**grid_search.best_params_, random_state=42)\n",
    "final_model.fit(X_train, y)\n",
    "\n",
    "# Scale test data\n",
    "test_X = test_data.values.reshape(-1, 1)\n",
    "test_X = scaler.transform(test_X)\n",
    "\n",
    "# Apply sliding window approach to test data\n",
    "test_X_windows = sliding_window(test_X, grid_search.best_params_['window_size'])\n",
    "test_X_windows = test_X_windows.reshape(-1, window_size)\n",
    "\n",
    "# Predict on test data\n",
    "test_y_pred = final_model.predict(test_X_windows)\n",
    "\n",
    "# Evaluate performance\n",
    "test_y_pred = scaler.inverse_transform(test_y_pred.reshape(-1, 1))\n",
    "test_data = scaler.inverse_transform(test_data.values.reshape(-1, 1))\n",
    "test_y_pred = test_y_pred.flatten()\n",
    "test_data = test_data.flatten()\n",
    "mse = mean_squared_error(test_data, test_y_pred)\n",
    "print('Mean Squared Error:', mse)"
   ]
  }
 ],
 "metadata": {
  "kernelspec": {
   "display_name": "Python 3",
   "language": "python",
   "name": "python3"
  },
  "language_info": {
   "codemirror_mode": {
    "name": "ipython",
    "version": 3
   },
   "file_extension": ".py",
   "mimetype": "text/x-python",
   "name": "python",
   "nbconvert_exporter": "python",
   "pygments_lexer": "ipython3",
   "version": "3.11.5"
  },
  "orig_nbformat": 4
 },
 "nbformat": 4,
 "nbformat_minor": 2
}
